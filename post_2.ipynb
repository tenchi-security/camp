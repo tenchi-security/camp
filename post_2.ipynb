{
 "cells": [
  {
   "cell_type": "markdown",
   "metadata": {
    "pycharm": {
     "name": "#%% md\n"
    }
   },
   "source": [
    "# CloudSplaining AWS Managed Policies (camp)\n",
    "\n",
    "Code related to the first blog post: https://www.tenchisecurity.com/blog/aws-managed-iam-policies\n",
    "\n",
    "First, we load the policy versions data with some slight transformations."
   ]
  },
  {
   "cell_type": "code",
   "execution_count": 59,
   "metadata": {
    "collapsed": true
   },
   "outputs": [
    {
     "name": "stdout",
     "output_type": "stream",
     "text": [
      "<class 'pandas.core.frame.DataFrame'>\n",
      "RangeIndex: 2032 entries, 0 to 2031\n",
      "Data columns (total 11 columns):\n",
      " #   Column                      Non-Null Count  Dtype              \n",
      "---  ------                      --------------  -----              \n",
      " 0   PolicyName                  2032 non-null   object             \n",
      " 1   Version                     2032 non-null   int64              \n",
      " 2   IsDefaultVersion            2032 non-null   bool               \n",
      " 3   CreateDate                  2032 non-null   datetime64[ns, UTC]\n",
      " 4   ServiceWildcard             2032 non-null   int64              \n",
      " 5   ServicesAffected            2032 non-null   int64              \n",
      " 6   PrivilegeEscalation         2032 non-null   int64              \n",
      " 7   ResourceExposure            2032 non-null   int64              \n",
      " 8   DataExfiltration            2032 non-null   int64              \n",
      " 9   CredentialsExposure         2032 non-null   int64              \n",
      " 10  InfrastructureModification  2032 non-null   int64              \n",
      "dtypes: bool(1), datetime64[ns, UTC](1), int64(8), object(1)\n",
      "memory usage: 160.9+ KB\n"
     ]
    }
   ],
   "source": [
    "import pandas\n",
    "import datetime\n",
    "import matplotlib\n",
    "\n",
    "pd = pandas.read_csv('data/versions_summary.csv')\n",
    "pd['CreateDate'] = pd['CreateDate'].apply(lambda x: pandas.Timestamp(datetime.datetime.fromisoformat(x)))\n",
    "pd['VersionId'] = pd['VersionId'].apply(lambda x: int(x[1:].strip()))\n",
    "pd.rename(columns={'VersionId': 'Version'}, inplace=True)\n",
    "pd.info()"
   ]
  },
  {
   "cell_type": "markdown",
   "metadata": {
    "pycharm": {
     "name": "#%% md\n"
    }
   },
   "source": [
    "Now let's break down the number of versions per policy:"
   ]
  },
  {
   "cell_type": "code",
   "execution_count": 71,
   "metadata": {
    "pycharm": {
     "name": "#%%\n"
    }
   },
   "outputs": [
    {
     "name": "stdout",
     "output_type": "stream",
     "text": [
      "<p><table border=\"0\" class=\"dataframe\">\n",
      "  <thead>\n",
      "    <tr style=\"text-align: right;\">\n",
      "      <th style = \"background-color: #FFFFFF;font-family: Century Gothic;font-size: medium;color: #305496;text-align: left;border-bottom: 2px solid #305496;padding: 0px 20px 0px 0px\">Rank</th>\n",
      "      <th style = \"background-color: #FFFFFF;font-family: Century Gothic;font-size: medium;color: #305496;text-align: left;border-bottom: 2px solid #305496;padding: 0px 20px 0px 0px\">Policy</th>\n",
      "      <th style = \"background-color: #FFFFFF;font-family: Century Gothic;font-size: medium;color: #305496;text-align: left;border-bottom: 2px solid #305496;padding: 0px 20px 0px 0px\">Versions</th>\n",
      "    </tr>\n",
      "  </thead>\n",
      "  <tbody>\n",
      "    <tr>\n",
      "      <td style = \"background-color: #D9E1F2;font-family: Century Gothic;font-size: medium;text-align: left;padding: 0px 20px 0px 0px\">1</td>\n",
      "      <td style = \"background-color: #D9E1F2;font-family: Century Gothic;font-size: medium;text-align: left;padding: 0px 20px 0px 0px\">ReadOnlyAccess</td>\n",
      "      <td style = \"background-color: #D9E1F2;font-family: Century Gothic;font-size: medium;text-align: left;padding: 0px 20px 0px 0px\">71</td>\n",
      "    </tr>\n",
      "    <tr>\n",
      "      <td style = \"background-color: #FFFFFF;font-family: Century Gothic;font-size: medium;text-align: left;padding: 0px 20px 0px 0px\">2</td>\n",
      "      <td style = \"background-color: #FFFFFF;font-family: Century Gothic;font-size: medium;text-align: left;padding: 0px 20px 0px 0px\">AWSConfigRole</td>\n",
      "      <td style = \"background-color: #FFFFFF;font-family: Century Gothic;font-size: medium;text-align: left;padding: 0px 20px 0px 0px\">34</td>\n",
      "    </tr>\n",
      "    <tr>\n",
      "      <td style = \"background-color: #D9E1F2;font-family: Century Gothic;font-size: medium;text-align: left;padding: 0px 20px 0px 0px\">3</td>\n",
      "      <td style = \"background-color: #D9E1F2;font-family: Century Gothic;font-size: medium;text-align: left;padding: 0px 20px 0px 0px\">SecurityAudit</td>\n",
      "      <td style = \"background-color: #D9E1F2;font-family: Century Gothic;font-size: medium;text-align: left;padding: 0px 20px 0px 0px\">33</td>\n",
      "    </tr>\n",
      "    <tr>\n",
      "      <td style = \"background-color: #FFFFFF;font-family: Century Gothic;font-size: medium;text-align: left;padding: 0px 20px 0px 0px\">4</td>\n",
      "      <td style = \"background-color: #FFFFFF;font-family: Century Gothic;font-size: medium;text-align: left;padding: 0px 20px 0px 0px\">AWSConfigServiceRolePolicy</td>\n",
      "      <td style = \"background-color: #FFFFFF;font-family: Century Gothic;font-size: medium;text-align: left;padding: 0px 20px 0px 0px\">20</td>\n",
      "    </tr>\n",
      "    <tr>\n",
      "      <td style = \"background-color: #D9E1F2;font-family: Century Gothic;font-size: medium;text-align: left;padding: 0px 20px 0px 0px\">5</td>\n",
      "      <td style = \"background-color: #D9E1F2;font-family: Century Gothic;font-size: medium;text-align: left;padding: 0px 20px 0px 0px\">AmazonECS_FullAccess</td>\n",
      "      <td style = \"background-color: #D9E1F2;font-family: Century Gothic;font-size: medium;text-align: left;padding: 0px 20px 0px 0px\">19</td>\n",
      "    </tr>\n",
      "    <tr>\n",
      "      <td style = \"background-color: #FFFFFF;font-family: Century Gothic;font-size: medium;text-align: left;padding: 0px 20px 0px 0px\">6</td>\n",
      "      <td style = \"background-color: #FFFFFF;font-family: Century Gothic;font-size: medium;text-align: left;padding: 0px 20px 0px 0px\">AmazonSageMakerFullAccess</td>\n",
      "      <td style = \"background-color: #FFFFFF;font-family: Century Gothic;font-size: medium;text-align: left;padding: 0px 20px 0px 0px\">17</td>\n",
      "    </tr>\n",
      "    <tr>\n",
      "      <td style = \"background-color: #D9E1F2;font-family: Century Gothic;font-size: medium;text-align: left;padding: 0px 20px 0px 0px\">7</td>\n",
      "      <td style = \"background-color: #D9E1F2;font-family: Century Gothic;font-size: medium;text-align: left;padding: 0px 20px 0px 0px\">AWSElasticBeanstalkService</td>\n",
      "      <td style = \"background-color: #D9E1F2;font-family: Century Gothic;font-size: medium;text-align: left;padding: 0px 20px 0px 0px\">16</td>\n",
      "    </tr>\n",
      "    <tr>\n",
      "      <td style = \"background-color: #FFFFFF;font-family: Century Gothic;font-size: medium;text-align: left;padding: 0px 20px 0px 0px\">8</td>\n",
      "      <td style = \"background-color: #FFFFFF;font-family: Century Gothic;font-size: medium;text-align: left;padding: 0px 20px 0px 0px\">FMSServiceRolePolicy</td>\n",
      "      <td style = \"background-color: #FFFFFF;font-family: Century Gothic;font-size: medium;text-align: left;padding: 0px 20px 0px 0px\">16</td>\n",
      "    </tr>\n",
      "    <tr>\n",
      "      <td style = \"background-color: #D9E1F2;font-family: Century Gothic;font-size: medium;text-align: left;padding: 0px 20px 0px 0px\">9</td>\n",
      "      <td style = \"background-color: #D9E1F2;font-family: Century Gothic;font-size: medium;text-align: left;padding: 0px 20px 0px 0px\">AWSCodeCommitPowerUser</td>\n",
      "      <td style = \"background-color: #D9E1F2;font-family: Century Gothic;font-size: medium;text-align: left;padding: 0px 20px 0px 0px\">14</td>\n",
      "    </tr>\n",
      "    <tr>\n",
      "      <td style = \"background-color: #FFFFFF;font-family: Century Gothic;font-size: medium;text-align: left;padding: 0px 20px 0px 0px\">10</td>\n",
      "      <td style = \"background-color: #FFFFFF;font-family: Century Gothic;font-size: medium;text-align: left;padding: 0px 20px 0px 0px\">AWSMobileHub_FullAccess</td>\n",
      "      <td style = \"background-color: #FFFFFF;font-family: Century Gothic;font-size: medium;text-align: left;padding: 0px 20px 0px 0px\">14</td>\n",
      "    </tr>\n",
      "    <tr>\n",
      "      <td style = \"background-color: #D9E1F2;font-family: Century Gothic;font-size: medium;text-align: left;padding: 0px 20px 0px 0px\">11</td>\n",
      "      <td style = \"background-color: #D9E1F2;font-family: Century Gothic;font-size: medium;text-align: left;padding: 0px 20px 0px 0px\">AWSSupportServiceRolePolicy</td>\n",
      "      <td style = \"background-color: #D9E1F2;font-family: Century Gothic;font-size: medium;text-align: left;padding: 0px 20px 0px 0px\">13</td>\n",
      "    </tr>\n",
      "    <tr>\n",
      "      <td style = \"background-color: #FFFFFF;font-family: Century Gothic;font-size: medium;text-align: left;padding: 0px 20px 0px 0px\">12</td>\n",
      "      <td style = \"background-color: #FFFFFF;font-family: Century Gothic;font-size: medium;text-align: left;padding: 0px 20px 0px 0px\">AWSCodeBuildDeveloperAccess</td>\n",
      "      <td style = \"background-color: #FFFFFF;font-family: Century Gothic;font-size: medium;text-align: left;padding: 0px 20px 0px 0px\">13</td>\n",
      "    </tr>\n",
      "    <tr>\n",
      "      <td style = \"background-color: #D9E1F2;font-family: Century Gothic;font-size: medium;text-align: left;padding: 0px 20px 0px 0px\">13</td>\n",
      "      <td style = \"background-color: #D9E1F2;font-family: Century Gothic;font-size: medium;text-align: left;padding: 0px 20px 0px 0px\">AWSGlueConsoleFullAccess</td>\n",
      "      <td style = \"background-color: #D9E1F2;font-family: Century Gothic;font-size: medium;text-align: left;padding: 0px 20px 0px 0px\">12</td>\n",
      "    </tr>\n",
      "    <tr>\n",
      "      <td style = \"background-color: #FFFFFF;font-family: Century Gothic;font-size: medium;text-align: left;padding: 0px 20px 0px 0px\">14</td>\n",
      "      <td style = \"background-color: #FFFFFF;font-family: Century Gothic;font-size: medium;text-align: left;padding: 0px 20px 0px 0px\">AWSOpsWorksCMServiceRole</td>\n",
      "      <td style = \"background-color: #FFFFFF;font-family: Century Gothic;font-size: medium;text-align: left;padding: 0px 20px 0px 0px\">12</td>\n",
      "    </tr>\n",
      "    <tr>\n",
      "      <td style = \"background-color: #D9E1F2;font-family: Century Gothic;font-size: medium;text-align: left;padding: 0px 20px 0px 0px\">15</td>\n",
      "      <td style = \"background-color: #D9E1F2;font-family: Century Gothic;font-size: medium;text-align: left;padding: 0px 20px 0px 0px\">AmazonDynamoDBFullAccess</td>\n",
      "      <td style = \"background-color: #D9E1F2;font-family: Century Gothic;font-size: medium;text-align: left;padding: 0px 20px 0px 0px\">12</td>\n",
      "    </tr>\n",
      "    <tr>\n",
      "      <td style = \"background-color: #FFFFFF;font-family: Century Gothic;font-size: medium;text-align: left;padding: 0px 20px 0px 0px\">16</td>\n",
      "      <td style = \"background-color: #FFFFFF;font-family: Century Gothic;font-size: medium;text-align: left;padding: 0px 20px 0px 0px\">AWSSSOServiceRolePolicy</td>\n",
      "      <td style = \"background-color: #FFFFFF;font-family: Century Gothic;font-size: medium;text-align: left;padding: 0px 20px 0px 0px\">12</td>\n",
      "    </tr>\n",
      "    <tr>\n",
      "      <td style = \"background-color: #D9E1F2;font-family: Century Gothic;font-size: medium;text-align: left;padding: 0px 20px 0px 0px\">17</td>\n",
      "      <td style = \"background-color: #D9E1F2;font-family: Century Gothic;font-size: medium;text-align: left;padding: 0px 20px 0px 0px\">AWSCodeBuildAdminAccess</td>\n",
      "      <td style = \"background-color: #D9E1F2;font-family: Century Gothic;font-size: medium;text-align: left;padding: 0px 20px 0px 0px\">12</td>\n",
      "    </tr>\n",
      "    <tr>\n",
      "      <td style = \"background-color: #FFFFFF;font-family: Century Gothic;font-size: medium;text-align: left;padding: 0px 20px 0px 0px\">18</td>\n",
      "      <td style = \"background-color: #FFFFFF;font-family: Century Gothic;font-size: medium;text-align: left;padding: 0px 20px 0px 0px\">AWSServiceRoleForImageBuilder</td>\n",
      "      <td style = \"background-color: #FFFFFF;font-family: Century Gothic;font-size: medium;text-align: left;padding: 0px 20px 0px 0px\">11</td>\n",
      "    </tr>\n",
      "    <tr>\n",
      "      <td style = \"background-color: #D9E1F2;font-family: Century Gothic;font-size: medium;text-align: left;padding: 0px 20px 0px 0px\">19</td>\n",
      "      <td style = \"background-color: #D9E1F2;font-family: Century Gothic;font-size: medium;text-align: left;padding: 0px 20px 0px 0px\">AWSCodeBuildReadOnlyAccess</td>\n",
      "      <td style = \"background-color: #D9E1F2;font-family: Century Gothic;font-size: medium;text-align: left;padding: 0px 20px 0px 0px\">11</td>\n",
      "    </tr>\n",
      "  </tbody>\n",
      "</table></p>\n"
     ]
    },
    {
     "data": {
      "text/plain": "<IPython.core.display.HTML object>",
      "text/html": "<p><table border=\"0\" class=\"dataframe\">\n  <thead>\n    <tr style=\"text-align: right;\">\n      <th style = \"background-color: #FFFFFF;font-family: Century Gothic;font-size: medium;color: #305496;text-align: left;border-bottom: 2px solid #305496;padding: 0px 20px 0px 0px\">Rank</th>\n      <th style = \"background-color: #FFFFFF;font-family: Century Gothic;font-size: medium;color: #305496;text-align: left;border-bottom: 2px solid #305496;padding: 0px 20px 0px 0px\">Policy</th>\n      <th style = \"background-color: #FFFFFF;font-family: Century Gothic;font-size: medium;color: #305496;text-align: left;border-bottom: 2px solid #305496;padding: 0px 20px 0px 0px\">Versions</th>\n    </tr>\n  </thead>\n  <tbody>\n    <tr>\n      <td style = \"background-color: #D9E1F2;font-family: Century Gothic;font-size: medium;text-align: left;padding: 0px 20px 0px 0px\">1</td>\n      <td style = \"background-color: #D9E1F2;font-family: Century Gothic;font-size: medium;text-align: left;padding: 0px 20px 0px 0px\">ReadOnlyAccess</td>\n      <td style = \"background-color: #D9E1F2;font-family: Century Gothic;font-size: medium;text-align: left;padding: 0px 20px 0px 0px\">71</td>\n    </tr>\n    <tr>\n      <td style = \"background-color: #FFFFFF;font-family: Century Gothic;font-size: medium;text-align: left;padding: 0px 20px 0px 0px\">2</td>\n      <td style = \"background-color: #FFFFFF;font-family: Century Gothic;font-size: medium;text-align: left;padding: 0px 20px 0px 0px\">AWSConfigRole</td>\n      <td style = \"background-color: #FFFFFF;font-family: Century Gothic;font-size: medium;text-align: left;padding: 0px 20px 0px 0px\">34</td>\n    </tr>\n    <tr>\n      <td style = \"background-color: #D9E1F2;font-family: Century Gothic;font-size: medium;text-align: left;padding: 0px 20px 0px 0px\">3</td>\n      <td style = \"background-color: #D9E1F2;font-family: Century Gothic;font-size: medium;text-align: left;padding: 0px 20px 0px 0px\">SecurityAudit</td>\n      <td style = \"background-color: #D9E1F2;font-family: Century Gothic;font-size: medium;text-align: left;padding: 0px 20px 0px 0px\">33</td>\n    </tr>\n    <tr>\n      <td style = \"background-color: #FFFFFF;font-family: Century Gothic;font-size: medium;text-align: left;padding: 0px 20px 0px 0px\">4</td>\n      <td style = \"background-color: #FFFFFF;font-family: Century Gothic;font-size: medium;text-align: left;padding: 0px 20px 0px 0px\">AWSConfigServiceRolePolicy</td>\n      <td style = \"background-color: #FFFFFF;font-family: Century Gothic;font-size: medium;text-align: left;padding: 0px 20px 0px 0px\">20</td>\n    </tr>\n    <tr>\n      <td style = \"background-color: #D9E1F2;font-family: Century Gothic;font-size: medium;text-align: left;padding: 0px 20px 0px 0px\">5</td>\n      <td style = \"background-color: #D9E1F2;font-family: Century Gothic;font-size: medium;text-align: left;padding: 0px 20px 0px 0px\">AmazonECS_FullAccess</td>\n      <td style = \"background-color: #D9E1F2;font-family: Century Gothic;font-size: medium;text-align: left;padding: 0px 20px 0px 0px\">19</td>\n    </tr>\n    <tr>\n      <td style = \"background-color: #FFFFFF;font-family: Century Gothic;font-size: medium;text-align: left;padding: 0px 20px 0px 0px\">6</td>\n      <td style = \"background-color: #FFFFFF;font-family: Century Gothic;font-size: medium;text-align: left;padding: 0px 20px 0px 0px\">AmazonSageMakerFullAccess</td>\n      <td style = \"background-color: #FFFFFF;font-family: Century Gothic;font-size: medium;text-align: left;padding: 0px 20px 0px 0px\">17</td>\n    </tr>\n    <tr>\n      <td style = \"background-color: #D9E1F2;font-family: Century Gothic;font-size: medium;text-align: left;padding: 0px 20px 0px 0px\">7</td>\n      <td style = \"background-color: #D9E1F2;font-family: Century Gothic;font-size: medium;text-align: left;padding: 0px 20px 0px 0px\">AWSElasticBeanstalkService</td>\n      <td style = \"background-color: #D9E1F2;font-family: Century Gothic;font-size: medium;text-align: left;padding: 0px 20px 0px 0px\">16</td>\n    </tr>\n    <tr>\n      <td style = \"background-color: #FFFFFF;font-family: Century Gothic;font-size: medium;text-align: left;padding: 0px 20px 0px 0px\">8</td>\n      <td style = \"background-color: #FFFFFF;font-family: Century Gothic;font-size: medium;text-align: left;padding: 0px 20px 0px 0px\">FMSServiceRolePolicy</td>\n      <td style = \"background-color: #FFFFFF;font-family: Century Gothic;font-size: medium;text-align: left;padding: 0px 20px 0px 0px\">16</td>\n    </tr>\n    <tr>\n      <td style = \"background-color: #D9E1F2;font-family: Century Gothic;font-size: medium;text-align: left;padding: 0px 20px 0px 0px\">9</td>\n      <td style = \"background-color: #D9E1F2;font-family: Century Gothic;font-size: medium;text-align: left;padding: 0px 20px 0px 0px\">AWSCodeCommitPowerUser</td>\n      <td style = \"background-color: #D9E1F2;font-family: Century Gothic;font-size: medium;text-align: left;padding: 0px 20px 0px 0px\">14</td>\n    </tr>\n    <tr>\n      <td style = \"background-color: #FFFFFF;font-family: Century Gothic;font-size: medium;text-align: left;padding: 0px 20px 0px 0px\">10</td>\n      <td style = \"background-color: #FFFFFF;font-family: Century Gothic;font-size: medium;text-align: left;padding: 0px 20px 0px 0px\">AWSMobileHub_FullAccess</td>\n      <td style = \"background-color: #FFFFFF;font-family: Century Gothic;font-size: medium;text-align: left;padding: 0px 20px 0px 0px\">14</td>\n    </tr>\n    <tr>\n      <td style = \"background-color: #D9E1F2;font-family: Century Gothic;font-size: medium;text-align: left;padding: 0px 20px 0px 0px\">11</td>\n      <td style = \"background-color: #D9E1F2;font-family: Century Gothic;font-size: medium;text-align: left;padding: 0px 20px 0px 0px\">AWSSupportServiceRolePolicy</td>\n      <td style = \"background-color: #D9E1F2;font-family: Century Gothic;font-size: medium;text-align: left;padding: 0px 20px 0px 0px\">13</td>\n    </tr>\n    <tr>\n      <td style = \"background-color: #FFFFFF;font-family: Century Gothic;font-size: medium;text-align: left;padding: 0px 20px 0px 0px\">12</td>\n      <td style = \"background-color: #FFFFFF;font-family: Century Gothic;font-size: medium;text-align: left;padding: 0px 20px 0px 0px\">AWSCodeBuildDeveloperAccess</td>\n      <td style = \"background-color: #FFFFFF;font-family: Century Gothic;font-size: medium;text-align: left;padding: 0px 20px 0px 0px\">13</td>\n    </tr>\n    <tr>\n      <td style = \"background-color: #D9E1F2;font-family: Century Gothic;font-size: medium;text-align: left;padding: 0px 20px 0px 0px\">13</td>\n      <td style = \"background-color: #D9E1F2;font-family: Century Gothic;font-size: medium;text-align: left;padding: 0px 20px 0px 0px\">AWSGlueConsoleFullAccess</td>\n      <td style = \"background-color: #D9E1F2;font-family: Century Gothic;font-size: medium;text-align: left;padding: 0px 20px 0px 0px\">12</td>\n    </tr>\n    <tr>\n      <td style = \"background-color: #FFFFFF;font-family: Century Gothic;font-size: medium;text-align: left;padding: 0px 20px 0px 0px\">14</td>\n      <td style = \"background-color: #FFFFFF;font-family: Century Gothic;font-size: medium;text-align: left;padding: 0px 20px 0px 0px\">AWSOpsWorksCMServiceRole</td>\n      <td style = \"background-color: #FFFFFF;font-family: Century Gothic;font-size: medium;text-align: left;padding: 0px 20px 0px 0px\">12</td>\n    </tr>\n    <tr>\n      <td style = \"background-color: #D9E1F2;font-family: Century Gothic;font-size: medium;text-align: left;padding: 0px 20px 0px 0px\">15</td>\n      <td style = \"background-color: #D9E1F2;font-family: Century Gothic;font-size: medium;text-align: left;padding: 0px 20px 0px 0px\">AmazonDynamoDBFullAccess</td>\n      <td style = \"background-color: #D9E1F2;font-family: Century Gothic;font-size: medium;text-align: left;padding: 0px 20px 0px 0px\">12</td>\n    </tr>\n    <tr>\n      <td style = \"background-color: #FFFFFF;font-family: Century Gothic;font-size: medium;text-align: left;padding: 0px 20px 0px 0px\">16</td>\n      <td style = \"background-color: #FFFFFF;font-family: Century Gothic;font-size: medium;text-align: left;padding: 0px 20px 0px 0px\">AWSSSOServiceRolePolicy</td>\n      <td style = \"background-color: #FFFFFF;font-family: Century Gothic;font-size: medium;text-align: left;padding: 0px 20px 0px 0px\">12</td>\n    </tr>\n    <tr>\n      <td style = \"background-color: #D9E1F2;font-family: Century Gothic;font-size: medium;text-align: left;padding: 0px 20px 0px 0px\">17</td>\n      <td style = \"background-color: #D9E1F2;font-family: Century Gothic;font-size: medium;text-align: left;padding: 0px 20px 0px 0px\">AWSCodeBuildAdminAccess</td>\n      <td style = \"background-color: #D9E1F2;font-family: Century Gothic;font-size: medium;text-align: left;padding: 0px 20px 0px 0px\">12</td>\n    </tr>\n    <tr>\n      <td style = \"background-color: #FFFFFF;font-family: Century Gothic;font-size: medium;text-align: left;padding: 0px 20px 0px 0px\">18</td>\n      <td style = \"background-color: #FFFFFF;font-family: Century Gothic;font-size: medium;text-align: left;padding: 0px 20px 0px 0px\">AWSServiceRoleForImageBuilder</td>\n      <td style = \"background-color: #FFFFFF;font-family: Century Gothic;font-size: medium;text-align: left;padding: 0px 20px 0px 0px\">11</td>\n    </tr>\n    <tr>\n      <td style = \"background-color: #D9E1F2;font-family: Century Gothic;font-size: medium;text-align: left;padding: 0px 20px 0px 0px\">19</td>\n      <td style = \"background-color: #D9E1F2;font-family: Century Gothic;font-size: medium;text-align: left;padding: 0px 20px 0px 0px\">AWSCodeBuildReadOnlyAccess</td>\n      <td style = \"background-color: #D9E1F2;font-family: Century Gothic;font-size: medium;text-align: left;padding: 0px 20px 0px 0px\">11</td>\n    </tr>\n  </tbody>\n</table></p>"
     },
     "metadata": {},
     "output_type": "display_data"
    }
   ],
   "source": [
    "from IPython.display import display, HTML\n",
    "from pretty_html_table import build_table\n",
    "\n",
    "ver = pd[['PolicyName', 'Version']].groupby('PolicyName').max()\n",
    "ver.rename(columns={'Version': 'Versions', 'PolicyName': 'Policy'}, inplace=True)\n",
    "ver.sort_values('Versions', ascending=False, inplace=True)\n",
    "ver['Policy'] = ver.index\n",
    "ver['Rank'] = range(1, ver.shape[0]+1)\n",
    "ver_html = build_table(ver.head(19)[['Rank', 'Policy', 'Versions']], 'blue_light')\n",
    "print(ver_html)\n",
    "display(HTML(ver_html))"
   ]
  },
  {
   "cell_type": "code",
   "execution_count": 64,
   "metadata": {
    "pycharm": {
     "name": "#%%\n"
    }
   },
   "outputs": [
    {
     "data": {
      "text/plain": [
       "array([[<AxesSubplot:title={'center':'Versions'}>]], dtype=object)"
      ]
     },
     "execution_count": 64,
     "metadata": {},
     "output_type": "execute_result"
    },
    {
     "data": {
      "image/png": "[encoded data removed]",
      "text/plain": [
       "<Figure size 432x288 with 1 Axes>"
      ]
     },
     "metadata": {
      "needs_background": "light"
     },
     "output_type": "display_data"
    }
   ],
   "source": [
    "ver.hist(column='Versions', bins=50)"
   ]
  },
  {
   "cell_type": "code",
   "execution_count": 69,
   "metadata": {
    "pycharm": {
     "name": "#%%\n"
    }
   },
   "outputs": [
    {
     "data": {
      "text/plain": "'88.82758620689656%% of policies have 5 versions or less.'"
     },
     "execution_count": 69,
     "metadata": {},
     "output_type": "execute_result"
    }
   ],
   "source": [
    "f\"{ver[ver['Versions'] <= 5].shape[0] * 100 / ver.shape[0]}%% of policies have 5 versions or less.\""
   ]
  },
  {
   "cell_type": "code",
   "execution_count": null,
   "outputs": [],
   "source": [],
   "metadata": {
    "collapsed": false,
    "pycharm": {
     "name": "#%%\n"
    }
   }
  }
 ],
 "metadata": {
  "kernelspec": {
   "display_name": "Python 3",
   "language": "python",
   "name": "python3"
  },
  "language_info": {
   "codemirror_mode": {
    "name": "ipython",
    "version": 3
   },
   "file_extension": ".py",
   "mimetype": "text/x-python",
   "name": "python",
   "nbconvert_exporter": "python",
   "pygments_lexer": "ipython3",
   "version": "3.8.6"
  }
 },
 "nbformat": 4,
 "nbformat_minor": 1
}